{
 "cells": [
  {
   "cell_type": "markdown",
   "metadata": {},
   "source": [
    "# Yuk mari kita push:"
   ]
  },
  {
   "cell_type": "markdown",
   "metadata": {},
   "source": [
    "1. `git clone <link repo>` -> untuk download repo github ke lokal\n",
    "2. `cd <repo lokal>` -> pindah ke path repo lokal\n",
    "3. Buat file baru/ pindahkan file baru/assignment ke dalam repo lokal\n",
    "\n",
    "--- Kalo cicil push dan mau push update an, mulai dari step 4, bukan dari step 1---\n",
    "\n",
    "4. `git status` -> harusnya file baru/assignment berwarna merah, artinya terdeteksi\n",
    "5. `git add .` -> memasukan (semua) file baru/assignment tersebut ke stage mode. Kalau mau beberapa file saja bisa pakai `git add <namafile.tipe>` \n",
    "6. `git status` -> harusnya file baru/assignment tersebut berubah jadi hijau (sudah dlm stage mode)\n",
    "7. `git commit -m \"<messagenya apa?>\"` -> menulis versi, misal skripsi_rev1/skripsi_final\n",
    "8. `git push` -> untuk submit ke repo github\n",
    "9. Make sure file baru/assignment di repo github kalian sudah sesuai dengan yg di repo lokal "
   ]
  },
  {
   "cell_type": "markdown",
   "metadata": {},
   "source": [
    "# Header\n",
    "## Subheader1\n",
    "### Subheader2\n",
    ".  \n",
    ".  \n",
    ".  \n",
    "dst s/d 6hastag  \n",
    "###### Subheader6"
   ]
  },
  {
   "cell_type": "markdown",
   "metadata": {},
   "source": [
    "Gunakan triple dash untuk membuat garis panjang:\n"
   ]
  },
  {
   "cell_type": "markdown",
   "metadata": {},
   "source": [
    "---"
   ]
  },
  {
   "cell_type": "markdown",
   "metadata": {},
   "source": [
    "`*___*`     -> *italic*  \n",
    "`**___**`   -> **bold**  \n",
    "`***___***` -> ***bold_italic***  \n",
    "`` -> petik, untuk sintaks dalam markdown  \n",
    "'' -> kutip 1/ single quote / string  \n",
    "\"\" -> kutip 2/ double quotes / strings"
   ]
  },
  {
   "cell_type": "markdown",
   "metadata": {},
   "source": [
    "rumus bisa pakai simbol `$___$`:  \n",
    "- Dengan simbol:  \n",
    "   $ y = a + 3x^2 $  \n",
    "\n",
    "   \n",
    "- Tanpa simbol:  \n",
    "   y = a + 3X^2"
   ]
  },
  {
   "cell_type": "markdown",
   "metadata": {},
   "source": [
    "rumus mau tampil tengah `$$___$$`:\n",
    "$$y = a + 3x^2 $$"
   ]
  },
  {
   "cell_type": "markdown",
   "metadata": {},
   "source": [
    "Fungsi petik, semisal kalian mau taruh sintaks di dalam markdown cell.\n",
    "\n",
    "- Dengan petik  \n",
    "```sql\n",
    "SELECT * FROM TABLE_A\n",
    "```\n",
    "\n",
    "- Tanpa petik  \n",
    "SELECT * FROM TABLE_A\n",
    "\n",
    "\n",
    "Semisal mau nulis sintaks python:  \n",
    "- Dengan petik:  \n",
    "```py\n",
    "def rumus luas(p,l):\n",
    "    return p * l\n",
    "```\n",
    "- Tanpa petik:  \n",
    "def rumus luas(p,l):\n",
    "    return p * l"
   ]
  },
  {
   "cell_type": "markdown",
   "metadata": {},
   "source": [
    "Gunakan `#comment` untuk menjelaskan sintaks:"
   ]
  },
  {
   "cell_type": "code",
   "execution_count": 6,
   "metadata": {},
   "outputs": [
    {
     "data": {
      "text/plain": [
       "4"
      ]
     },
     "execution_count": 6,
     "metadata": {},
     "output_type": "execute_result"
    }
   ],
   "source": [
    "# ini adalah perkalian 2 di kali dengan 2\n",
    "2 * 2"
   ]
  },
  {
   "cell_type": "markdown",
   "metadata": {},
   "source": [
    "Student RMT 48:\n",
    "1. Boys:\n",
    "   - Nando\n",
    "   - Hanif\n",
    "   - Ziko:\n",
    "      - test:\n",
    "         - test2\n",
    "2. Girsl:\n",
    "   - Hana"
   ]
  }
 ],
 "metadata": {
  "kernelspec": {
   "display_name": "base",
   "language": "python",
   "name": "python3"
  },
  "language_info": {
   "codemirror_mode": {
    "name": "ipython",
    "version": 3
   },
   "file_extension": ".py",
   "mimetype": "text/x-python",
   "name": "python",
   "nbconvert_exporter": "python",
   "pygments_lexer": "ipython3",
   "version": "3.10.18"
  }
 },
 "nbformat": 4,
 "nbformat_minor": 2
}
